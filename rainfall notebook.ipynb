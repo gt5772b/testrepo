{
    "cells": [
        {
            "cell_type": "markdown",
            "metadata": {},
            "source": "rainfall analysis"
        },
        {
            "cell_type": "code",
            "execution_count": 1,
            "metadata": {},
            "outputs": [
                {
                    "data": {
                        "text/html": "<div>\n<style scoped>\n    .dataframe tbody tr th:only-of-type {\n        vertical-align: middle;\n    }\n\n    .dataframe tbody tr th {\n        vertical-align: top;\n    }\n\n    .dataframe thead th {\n        text-align: right;\n    }\n</style>\n<table border=\"1\" class=\"dataframe\">\n  <thead>\n    <tr style=\"text-align: right;\">\n      <th></th>\n      <th>Country or Area</th>\n      <th>Year</th>\n      <th>Value</th>\n      <th>Value Footnotes</th>\n      <th>Unit</th>\n    </tr>\n  </thead>\n  <tbody>\n    <tr>\n      <th>0</th>\n      <td>Albania</td>\n      <td>2015</td>\n      <td>32711.0</td>\n      <td>NaN</td>\n      <td>million cubic metres</td>\n    </tr>\n    <tr>\n      <th>1</th>\n      <td>Albania</td>\n      <td>2014</td>\n      <td>37172.0</td>\n      <td>NaN</td>\n      <td>million cubic metres</td>\n    </tr>\n    <tr>\n      <th>2</th>\n      <td>Albania</td>\n      <td>2013</td>\n      <td>30615.0</td>\n      <td>NaN</td>\n      <td>million cubic metres</td>\n    </tr>\n    <tr>\n      <th>3</th>\n      <td>Albania</td>\n      <td>2012</td>\n      <td>28058.0</td>\n      <td>NaN</td>\n      <td>million cubic metres</td>\n    </tr>\n    <tr>\n      <th>4</th>\n      <td>Albania</td>\n      <td>2011</td>\n      <td>30569.0</td>\n      <td>NaN</td>\n      <td>million cubic metres</td>\n    </tr>\n  </tbody>\n</table>\n</div>",
                        "text/plain": "  Country or Area  Year    Value Value Footnotes                  Unit\n0         Albania  2015  32711.0             NaN  million cubic metres\n1         Albania  2014  37172.0             NaN  million cubic metres\n2         Albania  2013  30615.0             NaN  million cubic metres\n3         Albania  2012  28058.0             NaN  million cubic metres\n4         Albania  2011  30569.0             NaN  million cubic metres"
                    },
                    "execution_count": 1,
                    "metadata": {},
                    "output_type": "execute_result"
                }
            ],
            "source": "# The code was removed by Watson Studio for sharing."
        },
        {
            "cell_type": "code",
            "execution_count": null,
            "metadata": {},
            "outputs": [],
            "source": ""
        }
    ],
    "metadata": {
        "kernelspec": {
            "display_name": "Python 3.9",
            "language": "python",
            "name": "python3"
        },
        "language_info": {
            "codemirror_mode": {
                "name": "ipython",
                "version": 3
            },
            "file_extension": ".py",
            "mimetype": "text/x-python",
            "name": "python",
            "nbconvert_exporter": "python",
            "pygments_lexer": "ipython3",
            "version": "3.9.12"
        }
    },
    "nbformat": 4,
    "nbformat_minor": 1
}