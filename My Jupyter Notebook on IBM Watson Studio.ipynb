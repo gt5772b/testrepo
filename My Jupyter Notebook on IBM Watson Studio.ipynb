{
    "cells": [
        {
            "metadata": {
                "collapsed": true
            },
            "cell_type": "markdown",
            "source": "# My Jupyter Notebook on IBM Watson Studio"
        },
        {
            "metadata": {},
            "cell_type": "markdown",
            "source": "<b>Brad, Media Buying Manager</b>"
        },
        {
            "metadata": {},
            "cell_type": "markdown",
            "source": "<i>I am interested in data science because through the analysis of data we can make many improvements to how we operate.</i>"
        },
        {
            "metadata": {},
            "cell_type": "markdown",
            "source": "###The code in cell 4 simply computes the square root of the prime number 11"
        },
        {
            "metadata": {},
            "cell_type": "code",
            "source": "import math\nprint(math.sqrt(11))",
            "execution_count": 3,
            "outputs": [
                {
                    "output_type": "stream",
                    "text": "3.3166247903554\n",
                    "name": "stdout"
                }
            ]
        },
        {
            "metadata": {},
            "cell_type": "markdown",
            "source": "<hr>\nI will summarize this notebook below:\n<hr>\n<li>I first created the notebook with the name given from the assignment\n    <li>I then followed the instructions to create 4 markdown cells with the proper formatting and filled them with the instructed information\n        <li>I then looked up the proper syntax to fill the 5th cell with a formula that I like\n            <li>Then I created this cell with 3 of the following: Horizontal rule, bulleted list, and a <a href=\"https://www.google.com/search?q=what+is+a+hyperlink&oq=what+is+a+hyperlink&aqs=chrome..69i57j0i512l9.5050j1j7&sourceid=chrome&ie=UTF-8\">hyperlink</a>\n                <hr>"
        },
        {
            "metadata": {},
            "cell_type": "code",
            "source": "",
            "execution_count": null,
            "outputs": []
        }
    ],
    "metadata": {
        "kernelspec": {
            "name": "python3",
            "display_name": "Python 3.9",
            "language": "python"
        },
        "language_info": {
            "name": "python",
            "version": "3.9.12",
            "mimetype": "text/x-python",
            "codemirror_mode": {
                "name": "ipython",
                "version": 3
            },
            "pygments_lexer": "ipython3",
            "nbconvert_exporter": "python",
            "file_extension": ".py"
        }
    },
    "nbformat": 4,
    "nbformat_minor": 1
}